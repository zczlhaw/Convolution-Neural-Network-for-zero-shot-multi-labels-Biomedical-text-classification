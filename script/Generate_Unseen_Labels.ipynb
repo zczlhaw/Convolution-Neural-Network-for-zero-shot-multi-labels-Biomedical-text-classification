{
 "cells": [
  {
   "cell_type": "markdown",
   "metadata": {},
   "source": [
    "# Import Packages"
   ]
  },
  {
   "cell_type": "code",
   "execution_count": null,
   "metadata": {},
   "outputs": [],
   "source": [
    "import re\n",
    "import pandas as pd\n",
    "import numpy as np\n",
    "import tensorflow as tf\n",
    "from sklearn.model_selection import train_test_split\n",
    "from sklearn.preprocessing import MultiLabelBinarizer\n",
    "import csv"
   ]
  },
  {
   "cell_type": "markdown",
   "metadata": {},
   "source": [
    "# Import Data"
   ]
  },
  {
   "cell_type": "code",
   "execution_count": null,
   "metadata": {},
   "outputs": [],
   "source": [
    "dat = pd.read_csv('../data/pubmed.csv')"
   ]
  },
  {
   "cell_type": "markdown",
   "metadata": {},
   "source": [
    "# Generate unseen labels"
   ]
  },
  {
   "cell_type": "code",
   "execution_count": null,
   "metadata": {},
   "outputs": [],
   "source": [
    "x = list(dat['sequence'])\n",
    "\n",
    "yy = []\n",
    "for i in range(len(x)):\n",
    "    temp = x[i].replace(\"[\",\"\").replace(\"]\",\"\").replace(\"(\",\"\").replace(\")\",\"\").replace(\"'\",\"\").split(\", \")\n",
    "    y = []\n",
    "    for j in range(len(temp)):\n",
    "        if j%2 != 0:\n",
    "            y.append(temp[j])\n",
    "    yy.append(y)\n",
    "    \n",
    "dat['mesh term code'] = yy\n",
    "\n",
    "dct_txt_cd = {}\n",
    "dct_cd_txt = {}\n",
    "for i in range(len(x)):\n",
    "    temp = x[i].replace(\"[\",\"\").replace(\"]\",\"\").replace(\"(\",\"\").replace(\")\",\"\").replace(\"'\",\"\").split(\", \")\n",
    "    for j in range(len(temp)):\n",
    "        if j%2 != 1:\n",
    "            if temp[j] not in dct_txt_cd:\n",
    "                dct_txt_cd[temp[j]] = temp[j+1]\n",
    "                dct_cd_txt[temp[j+1]] = temp[j]\n",
    "                \n",
    "temp_code = dat['mesh term code']\n",
    "\n",
    "dct = {}\n",
    "for i in range(len(temp_code)):\n",
    "    for j in range(len(temp_code[i])):\n",
    "        if temp_code[i][j] not in dct:\n",
    "            dct[temp_code[i][j]] = 1\n",
    "        else:\n",
    "            dct[temp_code[i][j]] += 1\n",
    "            \n",
    "mesh_list = pd.DataFrame.from_dict(dct, orient='index')\n",
    "mesh_list['density'] = mesh_list[0]/np.shape(dat)[0]\n",
    "rm_list = mesh_list[mesh_list['density'] < 0.001].sample(frac = 0.2, random_state = 3)['density']\n",
    "\n",
    "#rm_labels.csv Output file\n",
    "rm_list.to_csv('../data/rm_labels.csv')"
   ]
  }
 ],
 "metadata": {
  "kernelspec": {
   "display_name": "Python 3",
   "language": "python",
   "name": "python3"
  },
  "language_info": {
   "codemirror_mode": {
    "name": "ipython",
    "version": 3
   },
   "file_extension": ".py",
   "mimetype": "text/x-python",
   "name": "python",
   "nbconvert_exporter": "python",
   "pygments_lexer": "ipython3",
   "version": "3.6.2"
  }
 },
 "nbformat": 4,
 "nbformat_minor": 2
}
